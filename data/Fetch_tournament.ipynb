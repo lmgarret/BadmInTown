{
 "cells": [
  {
   "cell_type": "code",
   "execution_count": 1,
   "metadata": {},
   "outputs": [],
   "source": [
    "import urllib\n",
    "import urllib.request\n",
    "import urllib.parse\n",
    "from urllib.request import urlopen \n",
    "from urllib.request import urlretrieve \n",
    "\n",
    "from datetime import datetime\n",
    "import time,locale\n",
    "\n",
    "from bs4 import BeautifulSoup\n",
    "import re\n",
    "import unicodedata\n",
    "\n",
    "import pandas as pd"
   ]
  },
  {
   "cell_type": "markdown",
   "metadata": {},
   "source": [
    "### Create empty dataframes for all classes"
   ]
  },
  {
   "cell_type": "code",
   "execution_count": 5,
   "metadata": {},
   "outputs": [],
   "source": [
    "tournament_fields = ['name', 'club_id','start_date','url','lat', 'long','price_1_tab','price_2_tabs','price_3_tabs']\n",
    "dfTourn = pd.DataFrame(columns = tournament_fields)\n",
    "dfTourn.index.names = ['id']\n",
    "\n",
    "tournament_ranking_fields = ['name']\n",
    "dfTournament_ranking = pd.DataFrame(columns = tournament_ranking_fields)\n",
    "dfTournament_ranking.index.names = ['id']\n",
    "\n",
    "\n",
    "tournament_category_fields = ['name']\n",
    "dfTournament_category = pd.DataFrame(columns = tournament_category_fields)\n",
    "dfTournament_category.index.names = ['id']\n",
    "\n",
    "\n",
    "player_fields = ['license','name','surname','gender']\n",
    "dfPlayer = pd.DataFrame(columns = player_fields)\n",
    "\n",
    "\n",
    "accepts_ranking_fields = ['tid','trid']\n",
    "dfAccepts_ranking = pd.DataFrame(columns = accepts_ranking_fields)\n",
    "\n",
    "\n",
    "accepts_category_fields = ['tid','tcid']\n",
    "dfAccepts_category = pd.DataFrame(columns = accepts_category_fields)\n",
    "\n",
    "\n",
    "participates_fields = ['pid','tid']\n",
    "dfParticipates = pd.DataFrame(columns = participates_fields)"
   ]
  },
  {
   "cell_type": "markdown",
   "metadata": {},
   "source": [
    "### create table tournament_ranking"
   ]
  },
  {
   "cell_type": "code",
   "execution_count": 6,
   "metadata": {},
   "outputs": [],
   "source": [
    "dfTournament_ranking.loc[0] = ['N1']\n",
    "dfTournament_ranking.loc[1] = ['N2']\n",
    "dfTournament_ranking.loc[2] = ['N3']\n",
    "dfTournament_ranking.loc[3] = ['R4']\n",
    "dfTournament_ranking.loc[4] = ['R5']\n",
    "dfTournament_ranking.loc[5] = ['R6']\n",
    "dfTournament_ranking.loc[6] = ['D7']\n",
    "dfTournament_ranking.loc[7] = ['D8']\n",
    "dfTournament_ranking.loc[8] = ['D9']\n",
    "dfTournament_ranking.loc[9] = ['P10']\n",
    "dfTournament_ranking.loc[10] = ['P11']\n",
    "dfTournament_ranking.loc[11] = ['P12']\n",
    "dfTournament_ranking.loc[12] = ['NC']\n",
    "dfTournament_ranking.loc[13] = ['undefined']\n",
    "\n",
    "dfTournament_ranking.to_csv('TournamentRanking.csv')"
   ]
  },
  {
   "cell_type": "markdown",
   "metadata": {},
   "source": [
    "### method that, given a list of rankings, finds the corresponding ids and adds the pairs to table accepts_ranking"
   ]
  },
  {
   "cell_type": "code",
   "execution_count": 9,
   "metadata": {},
   "outputs": [],
   "source": [
    "def addRanking(rk, tid):\n",
    "    switcher = {\n",
    "        'D' : [6, 7, 8],\n",
    "        'D+' : [6, 7],\n",
    "        'D-' : [7, 8],\n",
    "        'D7' : [6],\n",
    "        'D8' : [7],\n",
    "        'D9' : [8],\n",
    "        'N' : [0, 1, 2],\n",
    "        'N+' : [0, 1 ],\n",
    "        'N-' : [1, 2],\n",
    "        'N1' : [0],\n",
    "        'N2' : [1],\n",
    "        'N3' : [2],\n",
    "        'NC' : [12],\n",
    "        'P' : [9, 10, 11],\n",
    "        'P+' : [9, 10],\n",
    "        'P-' : [10, 11],\n",
    "        'P10' : [9],\n",
    "        'P11' : [10],\n",
    "        'P12' : [11],\n",
    "        'R' : [3, 4, 5],\n",
    "        'R+' : [3, 4],\n",
    "        'R-' : [4, 5],\n",
    "        'R4' : [3],\n",
    "        'R5' : [4],\n",
    "        'R6 ' : [5]\n",
    "    }\n",
    "    for r in rk:\n",
    "        gets = switcher.get(r, [13])\n",
    "        for g in gets: \n",
    "            dfAccepts_ranking.loc[len(dfAccepts_ranking)] = [tid, g]\n",
    "        "
   ]
  },
  {
   "cell_type": "markdown",
   "metadata": {},
   "source": [
    "### create table tournament_category"
   ]
  },
  {
   "cell_type": "code",
   "execution_count": 15,
   "metadata": {},
   "outputs": [],
   "source": [
    "dfTournament_category.loc[0] = ['Veteran']\n",
    "dfTournament_category.loc[1] = ['Senior']\n",
    "dfTournament_category.loc[2] = ['Jeune']\n",
    "dfTournament_category.loc[3] = ['Undefined']\n",
    "\n",
    "dfTournament_category.to_csv('TournamentCategory.csv')"
   ]
  },
  {
   "cell_type": "markdown",
   "metadata": {},
   "source": [
    "### method that, given a list of categories, finds the corresponding id and adds the pairs to table accepts_category"
   ]
  },
  {
   "cell_type": "code",
   "execution_count": 11,
   "metadata": {},
   "outputs": [],
   "source": [
    "def addCategory(cat, tid):\n",
    "    switcher = {\n",
    "        'Veteran' : 0,\n",
    "        'Vétéran' : 0,\n",
    "        'Vet' : 0,\n",
    "        'Vét' : 0,\n",
    "        'Senior' : 1,\n",
    "        'Jeune' : 2\n",
    "    }\n",
    "    for r in cat:\n",
    "        get = switcher.get(r, [3])\n",
    "        dfAccepts_category.loc[len(dfAccepts_category)] = [tid, get]"
   ]
  },
  {
   "cell_type": "markdown",
   "metadata": {},
   "source": [
    "### fetch page "
   ]
  },
  {
   "cell_type": "code",
   "execution_count": 12,
   "metadata": {},
   "outputs": [],
   "source": [
    "pages = []\n",
    "\n",
    "for i in range(8):\n",
    "    url = 'http://badiste.fr/liste-tournoi-badminton?c2=0&u2=1&page2=' + str(i + 1) + '#table2'\n",
    "    data = urllib.parse.urlencode({'date' : '100'}).encode(\"utf-8\")\n",
    "\n",
    "    req = urllib.request.Request(url)\n",
    "    with urllib.request.urlopen(req,data=data) as f:\n",
    "        resp = f.read()\n",
    "\n",
    "    #codeSource = html.read().decode('utf-8')\n",
    "    soup = BeautifulSoup(resp, 'html.parser')\n",
    "    pages.append(soup)"
   ]
  },
  {
   "cell_type": "markdown",
   "metadata": {},
   "source": [
    "### Store clubs in dataframe"
   ]
  },
  {
   "cell_type": "code",
   "execution_count": 19,
   "metadata": {},
   "outputs": [],
   "source": [
    "dfClub = pd.read_csv('badiste_Club.csv', encoding = 'iso-8859-15', sep=';')\n",
    "dfClub.drop(columns = dfClub.columns[range(4,17)], inplace=True)\n",
    "dfClub.columns = ['name','short_name','dep','city_name']\n",
    "dfClub.drop(columns='dep', inplace=True)\n",
    "dfClub.index.names = ['id']\n",
    "\n",
    "dfClub[\"name_search\"] = dfClub[\"name\"] + \" (\" + dfClub[\"short_name\"] + \")\"\n",
    "dfClub.to_csv('Club.csv', columns = ['name','short_name','city_name','lat','long','url'])\n",
    "def getClubId(search_str, df):\n",
    "    return df.index[df['name_search'] == search_str].tolist()\n"
   ]
  },
  {
   "cell_type": "markdown",
   "metadata": {},
   "source": [
    "### Fetch all tournaments of one page"
   ]
  },
  {
   "cell_type": "code",
   "execution_count": 21,
   "metadata": {},
   "outputs": [
    {
     "name": "stdout",
     "output_type": "stream",
     "text": [
      "scraping page number  1\n",
      "percentage:  0.0\n",
      "percentage:  10.0\n",
      "percentage:  20.0\n",
      "percentage:  30.0\n",
      "percentage:  40.0\n",
      "percentage:  50.0\n",
      "percentage:  60.0\n",
      "percentage:  70.0\n",
      "percentage:  80.0\n",
      "percentage:  90.0\n",
      "scraping page number  2\n",
      "percentage:  0.0\n",
      "percentage:  10.0\n",
      "percentage:  20.0\n",
      "percentage:  30.0\n",
      "percentage:  40.0\n",
      "percentage:  50.0\n",
      "percentage:  60.0\n",
      "percentage:  70.0\n",
      "percentage:  80.0\n",
      "percentage:  90.0\n",
      "scraping page number  3\n",
      "percentage:  0.0\n",
      "percentage:  10.0\n",
      "percentage:  20.0\n",
      "percentage:  30.0\n",
      "percentage:  40.0\n",
      "percentage:  50.0\n",
      "percentage:  60.0\n",
      "percentage:  70.0\n",
      "percentage:  80.0\n",
      "percentage:  90.0\n",
      "scraping page number  4\n",
      "percentage:  0.0\n",
      "percentage:  10.0\n",
      "percentage:  20.0\n",
      "percentage:  30.0\n",
      "percentage:  40.0\n",
      "percentage:  50.0\n",
      "percentage:  60.0\n",
      "percentage:  70.0\n",
      "percentage:  80.0\n",
      "percentage:  90.0\n",
      "scraping page number  5\n",
      "percentage:  0.0\n",
      "percentage:  10.0\n",
      "percentage:  20.0\n",
      "percentage:  30.0\n",
      "percentage:  40.0\n",
      "percentage:  50.0\n",
      "percentage:  60.0\n",
      "percentage:  70.0\n",
      "percentage:  80.0\n",
      "percentage:  90.0\n",
      "scraping page number  6\n",
      "percentage:  0.0\n",
      "percentage:  10.0\n",
      "percentage:  20.0\n",
      "percentage:  30.0\n",
      "percentage:  40.0\n",
      "percentage:  50.0\n",
      "percentage:  60.0\n",
      "percentage:  70.0\n",
      "percentage:  80.0\n",
      "percentage:  90.0\n",
      "scraping page number  7\n",
      "percentage:  0.0\n",
      "percentage:  10.0\n",
      "percentage:  20.0\n",
      "percentage:  30.0\n",
      "percentage:  40.0\n",
      "percentage:  50.0\n",
      "percentage:  60.0\n",
      "percentage:  70.0\n",
      "percentage:  80.0\n",
      "percentage:  90.0\n",
      "scraping page number  8\n",
      "percentage:  0.0\n",
      "percentage:  50.0\n"
     ]
    }
   ],
   "source": [
    "pageNb = 1\n",
    "for p in pages:\n",
    "    print(\"scraping page number \", pageNb)\n",
    "    pageNb = pageNb + 1\n",
    "    trs = p.find_all(\"tr\", {\"class\": [\"tux\", \"tux1\"]})\n",
    "    for i in range(len(trs)):\n",
    "        \n",
    "        if ((i * 100 / len(trs))%10 == 0):\n",
    "            print(\"percentage: \", (i * 100 / len(trs)))\n",
    "        \n",
    "        tourn = trs[i] #TODO: change 15 into i\n",
    "        tds = tourn.find_all('td')\n",
    "\n",
    "        names = tds[1].find_all('a')[1]\n",
    "        link = names['href']\n",
    "        name = names.text.replace('17-18', '')\n",
    "\n",
    "        cat = tds[7].text\n",
    "        cats = re.split(' et |,|',cat)\n",
    "        addCategory(cats, i)\n",
    "\n",
    "        classmt = tds[8].text\n",
    "        clas = re.split(',|;|/|-',classmt)   \n",
    "        addRanking(clas, i)\n",
    "\n",
    "        html = urlopen(\"http://badiste.fr/\" + link)\n",
    "        codeSource = html.read().decode('iso-8859-15')\n",
    "        tsoup = BeautifulSoup(codeSource, 'html.parser')\n",
    "\n",
    "        infos = tsoup.find_all(\"td\", {\"class\":  \"forminfo\"})\n",
    "\n",
    "        clubName = infos[0].text\n",
    "        clubId = getClubId(clubName, dfClub)\n",
    "\n",
    "        realDate = infos[1].text\n",
    "        locale.setlocale(locale.LC_TIME, \"fr_FR\") \n",
    "        datetime_object = datetime.strptime(realDate, '%A %d %B %Y')\n",
    "        date = datetime_object.strftime(\"%d.%m.%Y\")\n",
    "\n",
    "        cost = infos[8].text\n",
    "        c = re.search('[^0-9]*(\\d*)[^0-9]*(\\d*)[^0-9]*(\\d*).*', str(cost))\n",
    "\n",
    "        try:\n",
    "            onetb = c.group(1)\n",
    "        except IndexError:\n",
    "            onetb = \"\"\n",
    "\n",
    "        try:\n",
    "            twotb = c.group(2)\n",
    "        except IndexError:\n",
    "            twotb = \"\"\n",
    "        try:\n",
    "            threetb = c.group(3)\n",
    "        except IndexError:\n",
    "            threetb = \"\"\n",
    "\n",
    "        geo = infos[9]\n",
    "        m = re.search('GPS : (-?\\d*.\\d*), (-?\\d*.\\d*)', str(geo))\n",
    "        if m:\n",
    "            lat = m.group(1)\n",
    "            long = m.group(2)\n",
    "\n",
    "        dfTourn.loc[len(dfTourn)] = [name, clubId[0] if len(clubId) > 0 else -1,  date, link, lat, long, onetb, twotb, threetb]\n",
    "\n",
    "        time.sleep(0.5)"
   ]
  },
  {
   "cell_type": "code",
   "execution_count": 22,
   "metadata": {},
   "outputs": [],
   "source": [
    "\n",
    "dfTourn.to_csv('Tournament.csv')\n",
    "\n",
    "dfAccepts_ranking.to_csv('accepts_ranking.csv', index = False)\n",
    "\n",
    "dfAccepts_category.to_csv('accepts_category.csv', index = False)\n",
    "\n",
    "#dfParticipates = pd.DataFrame(columns = participates_fields)\n",
    "#not done participate yet\n"
   ]
  },
  {
   "cell_type": "markdown",
   "metadata": {},
   "source": [
    "### fetch all players for each club and store them in df"
   ]
  },
  {
   "cell_type": "code",
   "execution_count": null,
   "metadata": {},
   "outputs": [
    {
     "name": "stdout",
     "output_type": "stream",
     "text": [
      "percentage:  0.0\n"
     ]
    }
   ],
   "source": [
    "c = 0\n",
    "wrongClubs = []\n",
    "for c in range(len(dfClub) - 1): #to remove the fédération\n",
    "#for c in range(3):\n",
    "    print(\"Club n° \"+ str(c) +\"/\" + str(len(dfClub)))\n",
    "    clubFullName = dfClub.at[c, 'name']\n",
    "    sigle = dfClub.at[c, 'short_name']\n",
    "    lowName = unicodedata.normalize('NFD', sigle).encode('ascii', 'ignore').decode('utf-8').lower()\n",
    "    if(not ('comite' in lowName or 'ligue' in lowName)):\n",
    "        c = c + 1\n",
    "        try: \n",
    "            playersLink = 'http://badiste.fr/rechercher-joueur-badminton?todo=search&nom=&prenom=&licence=&genre=0&classement=0&categorie=0&ligue=-1&ville=&sigle='+ sigle +'&lim=1000&Submit=Rechercher'\n",
    "\n",
    "            dataClub = urllib.parse.urlencode({'date' : '100'}).encode(\"utf-8\")\n",
    "\n",
    "            reqClub = urllib.request.Request(playersLink)\n",
    "            with urllib.request.urlopen(reqClub,data=dataClub) as f:\n",
    "                respClub = f.read()\n",
    "\n",
    "            #codeSource = html.read().decode('utf-8')\n",
    "            soupClub = BeautifulSoup(respClub, 'html.parser')\n",
    "            genders = {'H': 0, 'F': 1}\n",
    "            trsClub = soupClub.find_all(\"tr\", {\"class\": \"tux\"})\n",
    "            pl = 0\n",
    "            player_count = 0\n",
    "            for player in trsClub:\n",
    "                \n",
    "                if ((player_count * 100 / len(trsClub))%10 == 0):\n",
    "                    print(\"\\tplayers: \" + (player_count * 100 / len(trsClub)) + \"%\")\n",
    "                player_count+=1\n",
    "                \n",
    "                tdsClub = player.find_all('td')\n",
    "\n",
    "                nameClub = re.search('(.[^A-Z]+)+([A-Z ]+)', tdsClub[0].text)\n",
    "                playerName = nameClub.group(1).strip()\n",
    "                playerSurname = nameClub.group(2).strip()\n",
    "\n",
    "                if(not 'anonyme' in playerName.lower()):\n",
    "                    playerLicense = tdsClub[10].text\n",
    "\n",
    "                    playerGender = genders[tdsClub[1].text]\n",
    "\n",
    "                    dfPlayer.loc[pl] = [playerLicense, playerName, playerSurname, playerGender]\n",
    "                pl = pl + 1\n",
    "        except:\n",
    "            wrongClubs.append(sigle)\n",
    "        time.sleep(0.5)\n",
    "dfPlayer.to_csv('Player.csv', index=False)\n",
    "wrongDf = pd.DataFrame({'col':wrongClubs})\n",
    "wrongDf.to_csv('wrong_club_names.csv', index=False)"
   ]
  },
  {
   "cell_type": "code",
   "execution_count": null,
   "metadata": {},
   "outputs": [],
   "source": []
  },
  {
   "cell_type": "code",
   "execution_count": null,
   "metadata": {},
   "outputs": [],
   "source": []
  }
 ],
 "metadata": {
  "kernelspec": {
   "display_name": "Python 3",
   "language": "python",
   "name": "python3"
  },
  "language_info": {
   "codemirror_mode": {
    "name": "ipython",
    "version": 3
   },
   "file_extension": ".py",
   "mimetype": "text/x-python",
   "name": "python",
   "nbconvert_exporter": "python",
   "pygments_lexer": "ipython3",
   "version": "3.7.0"
  }
 },
 "nbformat": 4,
 "nbformat_minor": 2
}
